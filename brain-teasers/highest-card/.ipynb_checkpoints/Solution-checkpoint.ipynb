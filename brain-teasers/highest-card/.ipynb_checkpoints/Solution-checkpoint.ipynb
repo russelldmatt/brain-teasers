{
 "metadata": {
  "name": "",
  "signature": "sha256:41164bf84af9e94b4fc718e75c75b072a45c7a7576a89ee0f5cdf59dc0a8d1b0"
 },
 "nbformat": 3,
 "nbformat_minor": 0,
 "worksheets": [
  {
   "cells": [
    {
     "cell_type": "code",
     "collapsed": false,
     "input": [
      "from sympy import *\n",
      "init_printing(use_latex='mathjax')\n",
      "from IPython.display import display"
     ],
     "language": "python",
     "metadata": {},
     "outputs": [],
     "prompt_number": 12
    },
    {
     "cell_type": "code",
     "collapsed": false,
     "input": [
      "c = Symbol('c')"
     ],
     "language": "python",
     "metadata": {},
     "outputs": [],
     "prompt_number": 14
    },
    {
     "cell_type": "code",
     "collapsed": false,
     "input": [
      "def f(n):\n",
      "    if n == 1:\n",
      "        return (1-c)\n",
      "    else:\n",
      "        return (1-c) - (1-c)**n * (2**(n-1) - 1)/2**(n-1) + c*f(n-1)\n",
      "\n",
      "def g(n):\n",
      "    return [sol for sol in solve(c**n - f(n), c)]"
     ],
     "language": "python",
     "metadata": {},
     "outputs": [],
     "prompt_number": 48
    },
    {
     "cell_type": "code",
     "collapsed": false,
     "input": [
      "[ display(simplify(f(n))) for n in range(1,10) ]"
     ],
     "language": "python",
     "metadata": {},
     "outputs": [
      {
       "latex": [
        "$$- c + 1$$"
       ],
       "metadata": {},
       "output_type": "display_data",
       "text": [
        "-c + 1"
       ]
      },
      {
       "latex": [
        "$$- \\frac{3 c^{2}}{2} + c + \\frac{1}{2}$$"
       ],
       "metadata": {},
       "output_type": "display_data",
       "text": [
        "     2        \n",
        "  3\u22c5c        1\n",
        "- \u2500\u2500\u2500\u2500 + c + \u2500\n",
        "   2         2"
       ]
      },
      {
       "latex": [
        "$$- \\frac{3 c^{3}}{4} - \\frac{5 c^{2}}{4} + \\frac{7 c}{4} + \\frac{1}{4}$$"
       ],
       "metadata": {},
       "output_type": "display_data",
       "text": [
        "     3      2          \n",
        "  3\u22c5c    5\u22c5c    7\u22c5c   1\n",
        "- \u2500\u2500\u2500\u2500 - \u2500\u2500\u2500\u2500 + \u2500\u2500\u2500 + \u2500\n",
        "   4      4      4    4"
       ]
      },
      {
       "latex": [
        "$$- \\frac{13 c^{4}}{8} + \\frac{9 c^{3}}{4} - \\frac{7 c^{2}}{2} + \\frac{11 c}{4} + \\frac{1}{8}$$"
       ],
       "metadata": {},
       "output_type": "display_data",
       "text": [
        "      4      3      2           \n",
        "  13\u22c5c    9\u22c5c    7\u22c5c    11\u22c5c   1\n",
        "- \u2500\u2500\u2500\u2500\u2500 + \u2500\u2500\u2500\u2500 - \u2500\u2500\u2500\u2500 + \u2500\u2500\u2500\u2500 + \u2500\n",
        "    8      4      2      4     8"
       ]
      },
      {
       "latex": [
        "$$- \\frac{11 c^{5}}{16} - \\frac{39 c^{4}}{16} + \\frac{47 c^{3}}{8} - \\frac{53 c^{2}}{8} + \\frac{61 c}{16} + \\frac{1}{16}$$"
       ],
       "metadata": {},
       "output_type": "display_data",
       "text": [
        "      5       4       3       2            \n",
        "  11\u22c5c    39\u22c5c    47\u22c5c    53\u22c5c    61\u22c5c   1 \n",
        "- \u2500\u2500\u2500\u2500\u2500 - \u2500\u2500\u2500\u2500\u2500 + \u2500\u2500\u2500\u2500\u2500 - \u2500\u2500\u2500\u2500\u2500 + \u2500\u2500\u2500\u2500 + \u2500\u2500\n",
        "    16      16      8       8      16    16"
       ]
      },
      {
       "latex": [
        "$$- \\frac{53 c^{6}}{32} + \\frac{27 c^{5}}{8} - \\frac{277 c^{4}}{32} + \\frac{51 c^{3}}{4} - \\frac{343 c^{2}}{32} + \\frac{39 c}{8} + \\frac{1}{32}$$"
       ],
       "metadata": {},
       "output_type": "display_data",
       "text": [
        "      6       5        4       3        2            \n",
        "  53\u22c5c    27\u22c5c    277\u22c5c    51\u22c5c    343\u22c5c    39\u22c5c   1 \n",
        "- \u2500\u2500\u2500\u2500\u2500 + \u2500\u2500\u2500\u2500\u2500 - \u2500\u2500\u2500\u2500\u2500\u2500 + \u2500\u2500\u2500\u2500\u2500 - \u2500\u2500\u2500\u2500\u2500\u2500 + \u2500\u2500\u2500\u2500 + \u2500\u2500\n",
        "    32      8       32       4       32      8     32"
       ]
      },
      {
       "latex": [
        "$$- \\frac{43 c^{7}}{64} - \\frac{225 c^{6}}{64} + \\frac{769 c^{5}}{64} - \\frac{1389 c^{4}}{64} + \\frac{1519 c^{3}}{64} - \\frac{1011 c^{2}}{64} + \\frac{379 c}{64} + \\frac{1}{64}$$"
       ],
       "metadata": {},
       "output_type": "display_data",
       "text": [
        "      7        6        5         4         3         2             \n",
        "  43\u22c5c    225\u22c5c    769\u22c5c    1389\u22c5c    1519\u22c5c    1011\u22c5c    379\u22c5c   1 \n",
        "- \u2500\u2500\u2500\u2500\u2500 - \u2500\u2500\u2500\u2500\u2500\u2500 + \u2500\u2500\u2500\u2500\u2500\u2500 - \u2500\u2500\u2500\u2500\u2500\u2500\u2500 + \u2500\u2500\u2500\u2500\u2500\u2500\u2500 - \u2500\u2500\u2500\u2500\u2500\u2500\u2500 + \u2500\u2500\u2500\u2500\u2500 + \u2500\u2500\n",
        "    64      64       64        64        64        64       64    64"
       ]
      },
      {
       "latex": [
        "$$- \\frac{213 c^{8}}{128} + \\frac{283 c^{7}}{64} - \\frac{1009 c^{6}}{64} + \\frac{2167 c^{5}}{64} - \\frac{1463 c^{4}}{32} + \\frac{2545 c^{3}}{64} - \\frac{1399 c^{2}}{64} + \\frac{445 c}{64} + \\frac{1}{128}$$"
       ],
       "metadata": {},
       "output_type": "display_data",
       "text": [
        "       8        7         6         5         4         3         2           \n",
        "  213\u22c5c    283\u22c5c    1009\u22c5c    2167\u22c5c    1463\u22c5c    2545\u22c5c    1399\u22c5c    445\u22c5c   \n",
        "- \u2500\u2500\u2500\u2500\u2500\u2500 + \u2500\u2500\u2500\u2500\u2500\u2500 - \u2500\u2500\u2500\u2500\u2500\u2500\u2500 + \u2500\u2500\u2500\u2500\u2500\u2500\u2500 - \u2500\u2500\u2500\u2500\u2500\u2500\u2500 + \u2500\u2500\u2500\u2500\u2500\u2500\u2500 - \u2500\u2500\u2500\u2500\u2500\u2500\u2500 + \u2500\u2500\u2500\u2500\u2500 + \n",
        "   128       64        64        64        32        64        64       64    \n",
        "\n",
        "   \n",
        " 1 \n",
        "\u2500\u2500\u2500\n",
        "128"
       ]
      },
      {
       "latex": [
        "$$- \\frac{171 c^{9}}{256} - \\frac{1163 c^{8}}{256} + \\frac{643 c^{7}}{32} - \\frac{797 c^{6}}{16} + \\frac{10213 c^{5}}{128} - \\frac{10975 c^{4}}{128} + \\frac{989 c^{3}}{16} - \\frac{925 c^{2}}{32} + \\frac{2041 c}{256} + \\frac{1}{256}$$"
       ],
       "metadata": {},
       "output_type": "display_data",
       "text": [
        "       9         8        7        6          5          4        3        2  \n",
        "  171\u22c5c    1163\u22c5c    643\u22c5c    797\u22c5c    10213\u22c5c    10975\u22c5c    989\u22c5c    925\u22c5c   \n",
        "- \u2500\u2500\u2500\u2500\u2500\u2500 - \u2500\u2500\u2500\u2500\u2500\u2500\u2500 + \u2500\u2500\u2500\u2500\u2500\u2500 - \u2500\u2500\u2500\u2500\u2500\u2500 + \u2500\u2500\u2500\u2500\u2500\u2500\u2500\u2500 - \u2500\u2500\u2500\u2500\u2500\u2500\u2500\u2500 + \u2500\u2500\u2500\u2500\u2500\u2500 - \u2500\u2500\u2500\u2500\u2500\u2500 +\n",
        "   256       256       32       16       128        128        16       32    \n",
        "\n",
        "             \n",
        " 2041\u22c5c    1 \n",
        " \u2500\u2500\u2500\u2500\u2500\u2500 + \u2500\u2500\u2500\n",
        "  256     256"
       ]
      },
      {
       "metadata": {},
       "output_type": "pyout",
       "prompt_number": 49,
       "text": [
        "[None, None, None, None, None, None, None, None, None]"
       ]
      }
     ],
     "prompt_number": 49
    },
    {
     "cell_type": "code",
     "collapsed": false,
     "input": [
      "3 5 28 106 343 1011"
     ],
     "language": "python",
     "metadata": {},
     "outputs": []
    },
    {
     "cell_type": "code",
     "collapsed": false,
     "input": [
      "def round_if_im_is_tiny(complex_n):\n",
      "  if im(complex_n) < 1e-6:\n",
      "    return re(complex_n)\n",
      "  else:\n",
      "    return complex_n"
     ],
     "language": "python",
     "metadata": {},
     "outputs": [],
     "prompt_number": 44
    },
    {
     "cell_type": "code",
     "collapsed": false,
     "input": [
      "for n in range(1, 10):\n",
      "  display([ y for y in [ round_if_im_is_tiny(x.n()) for x in g(n)] if re(y) > 0])\n",
      "  "
     ],
     "language": "python",
     "metadata": {},
     "outputs": [
      {
       "latex": [
        "$$\\left [ 0.5\\right ]$$"
       ],
       "metadata": {},
       "output_type": "display_data",
       "text": [
        "[0.5]"
       ]
      },
      {
       "latex": [
        "$$\\left [ 0.679285086818144\\right ]$$"
       ],
       "metadata": {},
       "output_type": "display_data",
       "text": [
        "[0.679285086818144]"
       ]
      },
      {
       "latex": [
        "$$\\left [ 0.783990341821068\\right ]$$"
       ],
       "metadata": {},
       "output_type": "display_data",
       "text": [
        "[0.783990341821068]"
       ]
      },
      {
       "latex": [
        "$$\\left [ 0.0586718537607468, \\quad 0.0586718537607468 + 1.11885773380621 i, \\quad 0.837136627389574\\right ]$$"
       ],
       "metadata": {},
       "output_type": "display_data",
       "text": [
        "[0.0586718537607468, 0.0586718537607468 + 1.11885773380621\u22c5\u2148, 0.83713662738957\n",
        "4]"
       ]
      },
      {
       "latex": [
        "$$\\left [ 0.868759913983442, \\quad 0.401038574410693, \\quad 0.401038574410693 + 0.83771362949358 i\\right ]$$"
       ],
       "metadata": {},
       "output_type": "display_data",
       "text": [
        "[0.868759913983442, 0.401038574410693, 0.401038574410693 + 0.83771362949358\u22c5\u2148]"
       ]
      },
      {
       "latex": [
        "$$\\left [ 0.889908776206078, \\quad 0.499020050348456, \\quad 0.499020050348456 + 0.722158840705431 i\\right ]$$"
       ],
       "metadata": {},
       "output_type": "display_data",
       "text": [
        "[0.889908776206078, 0.499020050348456, 0.499020050348456 + 0.722158840705431\u22c5\u2148\n",
        "]"
       ]
      },
      {
       "latex": [
        "$$\\left [ 0.90511867850514, \\quad 0.191898381286114, \\quad 0.191898381286114 + 1.01943537445326 i, \\quad 0.572271746358369, \\quad 0.572271746358369 + 0.683906538576557 i\\right ]$$"
       ],
       "metadata": {},
       "output_type": "display_data",
       "text": [
        "[0.90511867850514, 0.191898381286114, 0.191898381286114 + 1.01943537445326\u22c5\u2148, \n",
        "0.572271746358369, 0.572271746358369 + 0.683906538576557\u22c5\u2148]"
       ]
      },
      {
       "latex": [
        "$$\\left [ 0.916607191293354, \\quad 0.244856857404673, \\quad 0.244856857404673 + 0.785206212326489 i, \\quad 0.660958308634212, \\quad 0.660958308634212 + 0.643405893214012 i\\right ]$$"
       ],
       "metadata": {},
       "output_type": "display_data",
       "text": [
        "[0.916607191293354, 0.244856857404673, 0.244856857404673 + 0.785206212326489\u22c5\u2148\n",
        ", 0.660958308634212, 0.660958308634212 + 0.643405893214012\u22c5\u2148]"
       ]
      },
      {
       "latex": [
        "$$\\left [ 0.925600299757938, \\quad 0.176418194727843, \\quad 0.176418194727843 + 1.33947203981549 i, \\quad 0.233848538413324, \\quad 0.233848538413324 + 0.694964140746702 i, \\quad 0.722238169726021, \\quad 0.722238169726021 + 0.589643710768793 i\\right ]$$"
       ],
       "metadata": {},
       "output_type": "display_data",
       "text": [
        "[0.925600299757938, 0.176418194727843, 0.176418194727843 + 1.33947203981549\u22c5\u2148,\n",
        " 0.233848538413324, 0.233848538413324 + 0.694964140746702\u22c5\u2148, 0.722238169726021\n",
        ", 0.722238169726021 + 0.589643710768793\u22c5\u2148]"
       ]
      }
     ],
     "prompt_number": 45
    },
    {
     "cell_type": "code",
     "collapsed": false,
     "input": [
      "roots = [x.n() for x in g(5)]\n",
      "\n",
      "display(roots[3])\n",
      "display(re(roots[3]))\n",
      "display(im(roots[3]))"
     ],
     "language": "python",
     "metadata": {},
     "outputs": [
      {
       "latex": [
        "$$0.386881973868006 - 0.848660209792152 i$$"
       ],
       "metadata": {},
       "output_type": "display_data",
       "text": [
        "0.386881973868006 - 0.848660209792152\u22c5\u2148"
       ]
      },
      {
       "latex": [
        "$$0.386881973868006$$"
       ],
       "metadata": {},
       "output_type": "display_data",
       "text": [
        "0.386881973868006"
       ]
      },
      {
       "latex": [
        "$$-0.848660209792152$$"
       ],
       "metadata": {},
       "output_type": "display_data",
       "text": [
        "-0.848660209792152"
       ]
      }
     ],
     "prompt_number": 36
    },
    {
     "cell_type": "code",
     "collapsed": false,
     "input": [
      "for n in range(1,5):\n",
      "    print f(n)\n",
      "    # print g(n)\n",
      "    print [x.n() for x in g(n)]"
     ],
     "language": "python",
     "metadata": {},
     "outputs": []
    }
   ],
   "metadata": {}
  }
 ]
}